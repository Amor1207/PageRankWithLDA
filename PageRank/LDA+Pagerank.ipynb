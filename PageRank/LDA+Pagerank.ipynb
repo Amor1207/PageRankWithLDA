{
 "cells": [
  {
   "cell_type": "code",
   "id": "initial_id",
   "metadata": {
    "collapsed": true,
    "ExecuteTime": {
     "end_time": "2024-07-19T06:46:56.452135Z",
     "start_time": "2024-07-19T06:46:55.561842Z"
    }
   },
   "source": [
    "import jieba\n",
    "from docx import Document\n",
    "import requests\n",
    "import os\n",
    "import pandas as pd\n",
    "import numpy as np"
   ],
   "outputs": [],
   "execution_count": 1
  },
  {
   "metadata": {
    "ExecuteTime": {
     "end_time": "2024-07-19T06:46:57.368720Z",
     "start_time": "2024-07-19T06:46:57.356646Z"
    }
   },
   "cell_type": "code",
   "source": "### 分词",
   "id": "676e56d5f085dad9",
   "outputs": [],
   "execution_count": 2
  },
  {
   "metadata": {
    "ExecuteTime": {
     "end_time": "2024-07-19T06:46:57.930491Z",
     "start_time": "2024-07-19T06:46:57.912575Z"
    }
   },
   "cell_type": "code",
   "source": [
    "# 读取本地停用词表\n",
    "stopwords = set(open('cn_stopwords.txt', 'r', encoding='utf-8').read().splitlines())\n"
   ],
   "id": "2fdeef49fef98b3b",
   "outputs": [],
   "execution_count": 3
  },
  {
   "metadata": {
    "ExecuteTime": {
     "end_time": "2024-07-19T06:46:58.877477Z",
     "start_time": "2024-07-19T06:46:58.856556Z"
    }
   },
   "cell_type": "code",
   "source": "stopwords",
   "id": "852c7270f2137458",
   "outputs": [
    {
     "data": {
      "text/plain": [
       "{'$',\n",
       " '0',\n",
       " '1',\n",
       " '2',\n",
       " '3',\n",
       " '4',\n",
       " '5',\n",
       " '6',\n",
       " '7',\n",
       " '8',\n",
       " '9',\n",
       " '?',\n",
       " '_',\n",
       " '“',\n",
       " '”',\n",
       " '、',\n",
       " '。',\n",
       " '《',\n",
       " '》',\n",
       " '一',\n",
       " '一些',\n",
       " '一何',\n",
       " '一切',\n",
       " '一则',\n",
       " '一方面',\n",
       " '一旦',\n",
       " '一来',\n",
       " '一样',\n",
       " '一般',\n",
       " '一转眼',\n",
       " '万一',\n",
       " '上',\n",
       " '上下',\n",
       " '下',\n",
       " '不',\n",
       " '不仅',\n",
       " '不但',\n",
       " '不光',\n",
       " '不单',\n",
       " '不只',\n",
       " '不外乎',\n",
       " '不如',\n",
       " '不妨',\n",
       " '不尽',\n",
       " '不尽然',\n",
       " '不得',\n",
       " '不怕',\n",
       " '不惟',\n",
       " '不成',\n",
       " '不拘',\n",
       " '不料',\n",
       " '不是',\n",
       " '不比',\n",
       " '不然',\n",
       " '不特',\n",
       " '不独',\n",
       " '不管',\n",
       " '不至于',\n",
       " '不若',\n",
       " '不论',\n",
       " '不过',\n",
       " '不问',\n",
       " '与',\n",
       " '与其',\n",
       " '与其说',\n",
       " '与否',\n",
       " '与此同时',\n",
       " '且',\n",
       " '且不说',\n",
       " '且说',\n",
       " '两者',\n",
       " '个',\n",
       " '个别',\n",
       " '临',\n",
       " '为',\n",
       " '为了',\n",
       " '为什么',\n",
       " '为何',\n",
       " '为止',\n",
       " '为此',\n",
       " '为着',\n",
       " '乃',\n",
       " '乃至',\n",
       " '乃至于',\n",
       " '么',\n",
       " '之',\n",
       " '之一',\n",
       " '之所以',\n",
       " '之类',\n",
       " '乌乎',\n",
       " '乎',\n",
       " '乘',\n",
       " '也',\n",
       " '也好',\n",
       " '也罢',\n",
       " '了',\n",
       " '二来',\n",
       " '于',\n",
       " '于是',\n",
       " '于是乎',\n",
       " '云云',\n",
       " '云尔',\n",
       " '些',\n",
       " '亦',\n",
       " '人',\n",
       " '人们',\n",
       " '人家',\n",
       " '什么',\n",
       " '什么样',\n",
       " '今',\n",
       " '介于',\n",
       " '仍',\n",
       " '仍旧',\n",
       " '从',\n",
       " '从此',\n",
       " '从而',\n",
       " '他',\n",
       " '他人',\n",
       " '他们',\n",
       " '以',\n",
       " '以上',\n",
       " '以为',\n",
       " '以便',\n",
       " '以免',\n",
       " '以及',\n",
       " '以故',\n",
       " '以期',\n",
       " '以来',\n",
       " '以至',\n",
       " '以至于',\n",
       " '以致',\n",
       " '们',\n",
       " '任',\n",
       " '任何',\n",
       " '任凭',\n",
       " '似的',\n",
       " '但',\n",
       " '但凡',\n",
       " '但是',\n",
       " '何',\n",
       " '何以',\n",
       " '何况',\n",
       " '何处',\n",
       " '何时',\n",
       " '余外',\n",
       " '作为',\n",
       " '你',\n",
       " '你们',\n",
       " '使',\n",
       " '使得',\n",
       " '例如',\n",
       " '依',\n",
       " '依据',\n",
       " '依照',\n",
       " '便于',\n",
       " '俺',\n",
       " '俺们',\n",
       " '倘',\n",
       " '倘使',\n",
       " '倘或',\n",
       " '倘然',\n",
       " '倘若',\n",
       " '借',\n",
       " '假使',\n",
       " '假如',\n",
       " '假若',\n",
       " '傥然',\n",
       " '像',\n",
       " '儿',\n",
       " '先不先',\n",
       " '光是',\n",
       " '全体',\n",
       " '全部',\n",
       " '兮',\n",
       " '关于',\n",
       " '其',\n",
       " '其一',\n",
       " '其中',\n",
       " '其二',\n",
       " '其他',\n",
       " '其余',\n",
       " '其它',\n",
       " '其次',\n",
       " '具体地说',\n",
       " '具体说来',\n",
       " '兼之',\n",
       " '内',\n",
       " '再',\n",
       " '再其次',\n",
       " '再则',\n",
       " '再有',\n",
       " '再者',\n",
       " '再者说',\n",
       " '再说',\n",
       " '冒',\n",
       " '冲',\n",
       " '况且',\n",
       " '几',\n",
       " '几时',\n",
       " '凡',\n",
       " '凡是',\n",
       " '凭',\n",
       " '凭借',\n",
       " '出于',\n",
       " '出来',\n",
       " '分别',\n",
       " '则',\n",
       " '则甚',\n",
       " '别',\n",
       " '别人',\n",
       " '别处',\n",
       " '别是',\n",
       " '别的',\n",
       " '别管',\n",
       " '别说',\n",
       " '到',\n",
       " '前后',\n",
       " '前此',\n",
       " '前者',\n",
       " '加之',\n",
       " '加以',\n",
       " '即',\n",
       " '即令',\n",
       " '即使',\n",
       " '即便',\n",
       " '即如',\n",
       " '即或',\n",
       " '即若',\n",
       " '却',\n",
       " '去',\n",
       " '又',\n",
       " '又及',\n",
       " '及',\n",
       " '及其',\n",
       " '及至',\n",
       " '反之',\n",
       " '反而',\n",
       " '反过来',\n",
       " '反过来说',\n",
       " '受到',\n",
       " '另',\n",
       " '另一方面',\n",
       " '另外',\n",
       " '另悉',\n",
       " '只',\n",
       " '只当',\n",
       " '只怕',\n",
       " '只是',\n",
       " '只有',\n",
       " '只消',\n",
       " '只要',\n",
       " '只限',\n",
       " '叫',\n",
       " '叮咚',\n",
       " '可',\n",
       " '可以',\n",
       " '可是',\n",
       " '可见',\n",
       " '各',\n",
       " '各个',\n",
       " '各位',\n",
       " '各种',\n",
       " '各自',\n",
       " '同',\n",
       " '同时',\n",
       " '后',\n",
       " '后者',\n",
       " '向',\n",
       " '向使',\n",
       " '向着',\n",
       " '吓',\n",
       " '吗',\n",
       " '否则',\n",
       " '吧',\n",
       " '吧哒',\n",
       " '吱',\n",
       " '呀',\n",
       " '呃',\n",
       " '呕',\n",
       " '呗',\n",
       " '呜',\n",
       " '呜呼',\n",
       " '呢',\n",
       " '呵',\n",
       " '呵呵',\n",
       " '呸',\n",
       " '呼哧',\n",
       " '咋',\n",
       " '和',\n",
       " '咚',\n",
       " '咦',\n",
       " '咧',\n",
       " '咱',\n",
       " '咱们',\n",
       " '咳',\n",
       " '哇',\n",
       " '哈',\n",
       " '哈哈',\n",
       " '哉',\n",
       " '哎',\n",
       " '哎呀',\n",
       " '哎哟',\n",
       " '哗',\n",
       " '哟',\n",
       " '哦',\n",
       " '哩',\n",
       " '哪',\n",
       " '哪个',\n",
       " '哪些',\n",
       " '哪儿',\n",
       " '哪天',\n",
       " '哪年',\n",
       " '哪怕',\n",
       " '哪样',\n",
       " '哪边',\n",
       " '哪里',\n",
       " '哼',\n",
       " '哼唷',\n",
       " '唉',\n",
       " '唯有',\n",
       " '啊',\n",
       " '啐',\n",
       " '啥',\n",
       " '啦',\n",
       " '啪达',\n",
       " '啷当',\n",
       " '喂',\n",
       " '喏',\n",
       " '喔唷',\n",
       " '喽',\n",
       " '嗡',\n",
       " '嗡嗡',\n",
       " '嗬',\n",
       " '嗯',\n",
       " '嗳',\n",
       " '嘎',\n",
       " '嘎登',\n",
       " '嘘',\n",
       " '嘛',\n",
       " '嘻',\n",
       " '嘿',\n",
       " '嘿嘿',\n",
       " '因',\n",
       " '因为',\n",
       " '因了',\n",
       " '因此',\n",
       " '因着',\n",
       " '因而',\n",
       " '固然',\n",
       " '在',\n",
       " '在下',\n",
       " '在于',\n",
       " '地',\n",
       " '基于',\n",
       " '处在',\n",
       " '多',\n",
       " '多么',\n",
       " '多少',\n",
       " '大',\n",
       " '大家',\n",
       " '她',\n",
       " '她们',\n",
       " '好',\n",
       " '如',\n",
       " '如上',\n",
       " '如上所述',\n",
       " '如下',\n",
       " '如何',\n",
       " '如其',\n",
       " '如同',\n",
       " '如是',\n",
       " '如果',\n",
       " '如此',\n",
       " '如若',\n",
       " '始而',\n",
       " '孰料',\n",
       " '孰知',\n",
       " '宁',\n",
       " '宁可',\n",
       " '宁愿',\n",
       " '宁肯',\n",
       " '它',\n",
       " '它们',\n",
       " '对',\n",
       " '对于',\n",
       " '对待',\n",
       " '对方',\n",
       " '对比',\n",
       " '将',\n",
       " '小',\n",
       " '尔',\n",
       " '尔后',\n",
       " '尔尔',\n",
       " '尚且',\n",
       " '就',\n",
       " '就是',\n",
       " '就是了',\n",
       " '就是说',\n",
       " '就算',\n",
       " '就要',\n",
       " '尽',\n",
       " '尽管',\n",
       " '尽管如此',\n",
       " '岂但',\n",
       " '己',\n",
       " '已',\n",
       " '已矣',\n",
       " '巴',\n",
       " '巴巴',\n",
       " '并',\n",
       " '并且',\n",
       " '并非',\n",
       " '庶乎',\n",
       " '庶几',\n",
       " '开外',\n",
       " '开始',\n",
       " '归',\n",
       " '归齐',\n",
       " '当',\n",
       " '当地',\n",
       " '当然',\n",
       " '当着',\n",
       " '彼',\n",
       " '彼时',\n",
       " '彼此',\n",
       " '往',\n",
       " '待',\n",
       " '很',\n",
       " '得',\n",
       " '得了',\n",
       " '怎',\n",
       " '怎么',\n",
       " '怎么办',\n",
       " '怎么样',\n",
       " '怎奈',\n",
       " '怎样',\n",
       " '总之',\n",
       " '总的来看',\n",
       " '总的来说',\n",
       " '总的说来',\n",
       " '总而言之',\n",
       " '恰恰相反',\n",
       " '您',\n",
       " '惟其',\n",
       " '慢说',\n",
       " '我',\n",
       " '我们',\n",
       " '或',\n",
       " '或则',\n",
       " '或是',\n",
       " '或曰',\n",
       " '或者',\n",
       " '截至',\n",
       " '所',\n",
       " '所以',\n",
       " '所在',\n",
       " '所幸',\n",
       " '所有',\n",
       " '才',\n",
       " '才能',\n",
       " '打',\n",
       " '打从',\n",
       " '把',\n",
       " '抑或',\n",
       " '拿',\n",
       " '按',\n",
       " '按照',\n",
       " '换句话说',\n",
       " '换言之',\n",
       " '据',\n",
       " '据此',\n",
       " '接着',\n",
       " '故',\n",
       " '故此',\n",
       " '故而',\n",
       " '旁人',\n",
       " '无',\n",
       " '无宁',\n",
       " '无论',\n",
       " '既',\n",
       " '既往',\n",
       " '既是',\n",
       " '既然',\n",
       " '时候',\n",
       " '是',\n",
       " '是以',\n",
       " '是的',\n",
       " '曾',\n",
       " '替',\n",
       " '替代',\n",
       " '最',\n",
       " '有',\n",
       " '有些',\n",
       " '有关',\n",
       " '有及',\n",
       " '有时',\n",
       " '有的',\n",
       " '望',\n",
       " '朝',\n",
       " '朝着',\n",
       " '本',\n",
       " '本人',\n",
       " '本地',\n",
       " '本着',\n",
       " '本身',\n",
       " '来',\n",
       " '来着',\n",
       " '来自',\n",
       " '来说',\n",
       " '极了',\n",
       " '果然',\n",
       " '果真',\n",
       " '某',\n",
       " '某个',\n",
       " '某些',\n",
       " '某某',\n",
       " '根据',\n",
       " '欤',\n",
       " '正值',\n",
       " '正如',\n",
       " '正巧',\n",
       " '正是',\n",
       " '此',\n",
       " '此地',\n",
       " '此处',\n",
       " '此外',\n",
       " '此时',\n",
       " '此次',\n",
       " '此间',\n",
       " '毋宁',\n",
       " '每',\n",
       " '每当',\n",
       " '比',\n",
       " '比及',\n",
       " '比如',\n",
       " '比方',\n",
       " '没奈何',\n",
       " '沿',\n",
       " '沿着',\n",
       " '漫说',\n",
       " '焉',\n",
       " '然则',\n",
       " '然后',\n",
       " '然而',\n",
       " '照',\n",
       " '照着',\n",
       " '犹且',\n",
       " '犹自',\n",
       " '甚且',\n",
       " '甚么',\n",
       " '甚或',\n",
       " '甚而',\n",
       " '甚至',\n",
       " '甚至于',\n",
       " '用',\n",
       " '用来',\n",
       " '由',\n",
       " '由于',\n",
       " '由是',\n",
       " '由此',\n",
       " '由此可见',\n",
       " '的',\n",
       " '的确',\n",
       " '的话',\n",
       " '直到',\n",
       " '相对而言',\n",
       " '省得',\n",
       " '看',\n",
       " '眨眼',\n",
       " '着',\n",
       " '着呢',\n",
       " '矣',\n",
       " '矣乎',\n",
       " '矣哉',\n",
       " '离',\n",
       " '竟而',\n",
       " '第',\n",
       " '等',\n",
       " '等到',\n",
       " '等等',\n",
       " '简言之',\n",
       " '管',\n",
       " '类如',\n",
       " '紧接着',\n",
       " '纵',\n",
       " '纵令',\n",
       " '纵使',\n",
       " '纵然',\n",
       " '经',\n",
       " '经过',\n",
       " '结果',\n",
       " '给',\n",
       " '继之',\n",
       " '继后',\n",
       " '继而',\n",
       " '综上所述',\n",
       " '罢了',\n",
       " '者',\n",
       " '而',\n",
       " '而且',\n",
       " '而况',\n",
       " '而后',\n",
       " '而外',\n",
       " '而已',\n",
       " '而是',\n",
       " '而言',\n",
       " '能',\n",
       " '能否',\n",
       " '腾',\n",
       " '自',\n",
       " '自个儿',\n",
       " '自从',\n",
       " '自各儿',\n",
       " '自后',\n",
       " '自家',\n",
       " '自己',\n",
       " '自打',\n",
       " '自身',\n",
       " '至',\n",
       " '至于',\n",
       " '至今',\n",
       " '至若',\n",
       " '致',\n",
       " '般的',\n",
       " '若',\n",
       " '若夫',\n",
       " '若是',\n",
       " '若果 ',\n",
       " '若非',\n",
       " '莫不然',\n",
       " '莫如',\n",
       " '莫若',\n",
       " '虽',\n",
       " '虽则',\n",
       " '虽然',\n",
       " '虽说',\n",
       " '被',\n",
       " '要',\n",
       " '要不',\n",
       " '要不是',\n",
       " '要不然',\n",
       " '要么',\n",
       " '要是',\n",
       " '譬喻',\n",
       " '譬如',\n",
       " '让',\n",
       " '许多',\n",
       " '论',\n",
       " '设使',\n",
       " '设或',\n",
       " '设若',\n",
       " '诚如',\n",
       " '诚然',\n",
       " '该',\n",
       " '说来',\n",
       " '诸',\n",
       " '诸位',\n",
       " '诸如',\n",
       " '谁',\n",
       " '谁人',\n",
       " '谁料',\n",
       " '谁知',\n",
       " '贼死',\n",
       " '赖以',\n",
       " '赶',\n",
       " '起',\n",
       " '起见',\n",
       " '趁',\n",
       " '趁着',\n",
       " '越是',\n",
       " '距',\n",
       " '跟',\n",
       " '较',\n",
       " '较之',\n",
       " '边',\n",
       " '过',\n",
       " '还',\n",
       " '还是',\n",
       " '还有',\n",
       " '还要',\n",
       " '这',\n",
       " '这一来',\n",
       " '这个',\n",
       " '这么',\n",
       " '这么些',\n",
       " '这么样',\n",
       " '这么点儿',\n",
       " '这些',\n",
       " '这会儿',\n",
       " '这儿',\n",
       " '这就是说',\n",
       " '这时',\n",
       " '这样',\n",
       " '这次',\n",
       " '这般',\n",
       " '这边',\n",
       " '这里',\n",
       " '进而',\n",
       " '连',\n",
       " '连同',\n",
       " '逐步',\n",
       " '通过',\n",
       " '遵循',\n",
       " '遵照',\n",
       " '那',\n",
       " '那个',\n",
       " '那么',\n",
       " '那么些',\n",
       " '那么样',\n",
       " '那些',\n",
       " '那会儿',\n",
       " '那儿',\n",
       " '那时',\n",
       " '那样',\n",
       " '那般',\n",
       " '那边',\n",
       " '那里',\n",
       " '都',\n",
       " '鄙人',\n",
       " '鉴于',\n",
       " '针对',\n",
       " '阿',\n",
       " '除',\n",
       " '除了',\n",
       " '除外',\n",
       " '除开',\n",
       " '除此之外',\n",
       " '除非',\n",
       " '随',\n",
       " '随后',\n",
       " '随时',\n",
       " '随着',\n",
       " '难道说',\n",
       " '非但',\n",
       " '非徒',\n",
       " '非特',\n",
       " '非独',\n",
       " '靠',\n",
       " '顺',\n",
       " '顺着',\n",
       " '首先',\n",
       " '！',\n",
       " '，',\n",
       " '：',\n",
       " '；',\n",
       " '？'}"
      ]
     },
     "execution_count": 4,
     "metadata": {},
     "output_type": "execute_result"
    }
   ],
   "execution_count": 4
  },
  {
   "metadata": {
    "ExecuteTime": {
     "end_time": "2024-07-19T06:46:59.305649Z",
     "start_time": "2024-07-19T06:46:59.289645Z"
    }
   },
   "cell_type": "code",
   "source": [
    "# 下载停用词表\n",
    "# url = \"https://raw.githubusercontent.com/goto456/stopwords/master/cn_stopwords.txt\"\n",
    "# stopwords = requests.get(url).text\n",
    "# stopwords = set(stopwords.splitlines())"
   ],
   "id": "882267c4fff7daa6",
   "outputs": [],
   "execution_count": 5
  },
  {
   "metadata": {
    "ExecuteTime": {
     "end_time": "2024-07-19T06:46:59.830855Z",
     "start_time": "2024-07-19T06:46:59.825387Z"
    }
   },
   "cell_type": "code",
   "source": [
    "# 读取文本文件\n",
    "def read_text_from_docx(file_path):\n",
    "    document = Document(file_path)\n",
    "    text = []\n",
    "    \n",
    "    for para in document.paragraphs:\n",
    "        text.append(para.text)\n",
    "    \n",
    "    return \"\\n\".join(text)"
   ],
   "id": "398d488268b4b99f",
   "outputs": [],
   "execution_count": 6
  },
  {
   "metadata": {
    "ExecuteTime": {
     "end_time": "2024-07-19T06:47:01.675631Z",
     "start_time": "2024-07-19T06:47:01.664579Z"
    }
   },
   "cell_type": "code",
   "source": [
    "# 读取停用词\n",
    "def preprocess_chinese_text(text):\n",
    "    # 使用jieba进行分词和词性标注\n",
    "    words = jieba.cut_for_search(text)\n",
    "    \n",
    "    # 过滤停用词和进行词性选择\n",
    "    filtered_words = [word for word in words if word not in stopwords]  \n",
    "\n",
    "    return filtered_words"
   ],
   "id": "bc07e15f220634f3",
   "outputs": [],
   "execution_count": 7
  },
  {
   "metadata": {
    "ExecuteTime": {
     "end_time": "2024-07-19T06:47:01.844410Z",
     "start_time": "2024-07-19T06:47:01.827153Z"
    }
   },
   "cell_type": "code",
   "source": [
    "def process_documents(directory, output_filename):\n",
    "    \"\"\"处理目录下的所有.docx文件，并保存分词结果到CSV文件中。\"\"\"\n",
    "    data = []\n",
    "    documents_name = []\n",
    "    for filename in os.listdir(directory):\n",
    "        if filename.endswith(\".docx\"):\n",
    "            file_path = os.path.join(directory, filename)\n",
    "            text = read_text_from_docx(file_path)\n",
    "            segmented_text = preprocess_chinese_text(text)\n",
    "            data.append({'filename': filename, 'text': segmented_text})\n",
    "            documents_name.append(filename)\n",
    "    \n",
    "    # 将数据转换成DataFrame并保存到CSV文件\n",
    "    df = pd.DataFrame(data)\n",
    "    df.to_csv(output_filename, index=False, encoding='utf-8')\n",
    "    \n",
    "    return documents_name"
   ],
   "id": "38c14355acedd8d1",
   "outputs": [],
   "execution_count": 8
  },
  {
   "metadata": {
    "ExecuteTime": {
     "end_time": "2024-07-19T06:47:23.590544Z",
     "start_time": "2024-07-19T06:47:23.585542Z"
    }
   },
   "cell_type": "code",
   "source": [
    "# 指定包含.docx文件的目录和输出CSV文件的路径\n",
    "directory = \"技术1\"\n",
    "output_filename = \"segmented_text.csv\""
   ],
   "id": "7a0956d0a43ca53b",
   "outputs": [],
   "execution_count": 11
  },
  {
   "metadata": {
    "ExecuteTime": {
     "end_time": "2024-07-19T06:47:24.825063Z",
     "start_time": "2024-07-19T06:47:24.159945Z"
    }
   },
   "cell_type": "code",
   "source": [
    "# 处理指定目录中的所有.docx文件并将结果保存为CSV\n",
    "document_names = process_documents(directory, output_filename)"
   ],
   "id": "3ddee15238c1d668",
   "outputs": [
    {
     "name": "stderr",
     "output_type": "stream",
     "text": [
      "Building prefix dict from the default dictionary ...\n",
      "Loading model from cache C:\\Users\\LIUYIN~1\\AppData\\Local\\Temp\\jieba.cache\n",
      "Loading model cost 0.422 seconds.\n",
      "Prefix dict has been built successfully.\n"
     ]
    }
   ],
   "execution_count": 12
  },
  {
   "metadata": {
    "ExecuteTime": {
     "end_time": "2024-07-19T06:47:25.608545Z",
     "start_time": "2024-07-19T06:47:25.595572Z"
    }
   },
   "cell_type": "code",
   "source": "### LDA建模",
   "id": "5280a7baccc75f3d",
   "outputs": [],
   "execution_count": 13
  },
  {
   "metadata": {
    "ExecuteTime": {
     "end_time": "2024-07-19T06:47:26.466725Z",
     "start_time": "2024-07-19T06:47:25.986382Z"
    }
   },
   "cell_type": "code",
   "source": [
    "from gensim import corpora, models\n",
    "from gensim.models.ldamodel import LdaModel"
   ],
   "id": "45ca92a409efb25e",
   "outputs": [],
   "execution_count": 14
  },
  {
   "metadata": {
    "ExecuteTime": {
     "end_time": "2024-07-19T06:47:26.481727Z",
     "start_time": "2024-07-19T06:47:26.468725Z"
    }
   },
   "cell_type": "code",
   "source": [
    "def load_data(file_path):\n",
    "    \"\"\"从CSV文件加载数据。\"\"\"\n",
    "    df = pd.read_csv(file_path)\n",
    "    # 假设CSV文件中每行包含一个文档的分词文本\n",
    "    # 将字符串形式的列表转换为真正的列表\n",
    "    df['text'] = df['text'].apply(eval)\n",
    "    return df['text'].tolist()"
   ],
   "id": "bec02d29b07762f9",
   "outputs": [],
   "execution_count": 15
  },
  {
   "metadata": {
    "ExecuteTime": {
     "end_time": "2024-07-19T06:47:26.692918Z",
     "start_time": "2024-07-19T06:47:26.680826Z"
    }
   },
   "cell_type": "code",
   "source": [
    "def prepare_corpus(documents):\n",
    "    \"\"\"准备语料库和词典，用于LDA模型。\"\"\"\n",
    "    # 创建字典\n",
    "    dictionary = corpora.Dictionary(documents)\n",
    "    # 使用字典转换文本数据为词袋模型\n",
    "    corpus = [dictionary.doc2bow(text) for text in documents]\n",
    "    return dictionary, corpus"
   ],
   "id": "1192f86599791ee",
   "outputs": [],
   "execution_count": 16
  },
  {
   "metadata": {
    "ExecuteTime": {
     "end_time": "2024-07-19T06:47:27.709654Z",
     "start_time": "2024-07-19T06:47:27.706653Z"
    }
   },
   "cell_type": "code",
   "source": [
    "def lda_model(corpus, dictionary, num_topics=5):\n",
    "    \"\"\"训练LDA模型并返回。\"\"\"\n",
    "    # 设置训练LDA模型的参数\n",
    "    lda = LdaModel(corpus, num_topics=num_topics, id2word=dictionary, passes=30, random_state=42)\n",
    "    return lda\n"
   ],
   "id": "c5dcaafe4e52f942",
   "outputs": [],
   "execution_count": 17
  },
  {
   "metadata": {
    "ExecuteTime": {
     "end_time": "2024-07-19T06:47:28.323460Z",
     "start_time": "2024-07-19T06:47:28.304198Z"
    }
   },
   "cell_type": "code",
   "source": [
    "# 加载数据\n",
    "file_path = 'segmented_text.csv'\n",
    "documents = load_data(file_path)"
   ],
   "id": "45af8cd334e2ae65",
   "outputs": [],
   "execution_count": 18
  },
  {
   "metadata": {
    "ExecuteTime": {
     "end_time": "2024-07-19T06:47:28.822189Z",
     "start_time": "2024-07-19T06:47:28.805116Z"
    }
   },
   "cell_type": "code",
   "source": "documents",
   "id": "77e3d1067ae6f826",
   "outputs": [
    {
     "data": {
      "text/plain": [
       "[['技术',\n",
       "  '革命',\n",
       "  '正在',\n",
       "  '改变',\n",
       "  '生活',\n",
       "  '方式',\n",
       "  '新',\n",
       "  '技术',\n",
       "  '带来',\n",
       "  '前所',\n",
       "  '未有',\n",
       "  '前所未有',\n",
       "  '便利',\n",
       "  '效率'],\n",
       " ['现代',\n",
       "  '技术',\n",
       "  '人工',\n",
       "  '智能',\n",
       "  '人工智能',\n",
       "  '数据',\n",
       "  '正在',\n",
       "  '推动',\n",
       "  '科技',\n",
       "  '进步',\n",
       "  '科技进步',\n",
       "  '影响',\n",
       "  '社会',\n",
       "  '层面'],\n",
       " ['技术',\n",
       "  '教育',\n",
       "  '领域',\n",
       "  '教育领域',\n",
       "  '应用',\n",
       "  '越来',\n",
       "  '越来越',\n",
       "  '广泛',\n",
       "  '互联',\n",
       "  '联网',\n",
       "  '互联网',\n",
       "  '课堂',\n",
       "  '智能',\n",
       "  '教学',\n",
       "  '工具',\n",
       "  '技术',\n",
       "  '正在',\n",
       "  '彻底',\n",
       "  '改变',\n",
       "  '彻底改变',\n",
       "  '教育',\n",
       "  '模式'],\n",
       " ['新',\n",
       "  '技术',\n",
       "  '遥控',\n",
       "  '手术',\n",
       "  '系统',\n",
       "  '数字',\n",
       "  '数字化',\n",
       "  '医疗',\n",
       "  '记录',\n",
       "  '正在',\n",
       "  '革新',\n",
       "  '传统',\n",
       "  '医疗',\n",
       "  '提高',\n",
       "  '治疗',\n",
       "  '效率'],\n",
       " ['技术',\n",
       "  '进步',\n",
       "  '经济',\n",
       "  '增长',\n",
       "  '重要',\n",
       "  '驱动',\n",
       "  '动力',\n",
       "  '驱动力',\n",
       "  '尤其',\n",
       "  '自动',\n",
       "  '自动化',\n",
       "  '网络',\n",
       "  '技术',\n",
       "  '领域',\n",
       "  '应用'],\n",
       " ['技术',\n",
       "  '发展',\n",
       "  '正在',\n",
       "  '引导',\n",
       "  '社会',\n",
       "  '变革',\n",
       "  '社会变革',\n",
       "  '多个',\n",
       "  '方面',\n",
       "  '特别',\n",
       "  '通信',\n",
       "  '信息',\n",
       "  '传播',\n",
       "  '方式'],\n",
       " ['环保',\n",
       "  '技术',\n",
       "  '如可',\n",
       "  '再生',\n",
       "  '能源',\n",
       "  '再生能源',\n",
       "  '节能',\n",
       "  '设备',\n",
       "  '正在',\n",
       "  '帮助',\n",
       "  '减少',\n",
       "  '环境',\n",
       "  '污染',\n",
       "  '环境污染',\n",
       "  '技术',\n",
       "  '实现',\n",
       "  '持续',\n",
       "  '发展',\n",
       "  '关键'],\n",
       " ['现代',\n",
       "  '农业',\n",
       "  '现代农业',\n",
       "  '技术',\n",
       "  '包括',\n",
       "  '精密',\n",
       "  '农业',\n",
       "  '遗传',\n",
       "  '工程',\n",
       "  '遗传工程',\n",
       "  '正在',\n",
       "  '提高',\n",
       "  '农作',\n",
       "  '作物',\n",
       "  '农作物',\n",
       "  '产量',\n",
       "  '降低',\n",
       "  '成本',\n",
       "  '低成本',\n",
       "  '降低成本'],\n",
       " ['智能',\n",
       "  '技术',\n",
       "  '人工',\n",
       "  '智能',\n",
       "  '人工智能',\n",
       "  '和物',\n",
       "  '联网',\n",
       "  '正在',\n",
       "  '塑造',\n",
       "  '未来',\n",
       "  '社会',\n",
       "  '影响',\n",
       "  '各行',\n",
       "  '各业',\n",
       "  '各行各业',\n",
       "  '发展'],\n",
       " ['交通',\n",
       "  '技术',\n",
       "  '创新',\n",
       "  '自动',\n",
       "  '驾驶',\n",
       "  '汽车',\n",
       "  '智能',\n",
       "  '交通',\n",
       "  '管理',\n",
       "  '交通管理',\n",
       "  '系统',\n",
       "  '正在',\n",
       "  '改变',\n",
       "  '出行',\n",
       "  '方式'],\n",
       " ['航空',\n",
       "  '技术',\n",
       "  '快速',\n",
       "  '发展',\n",
       "  '包括',\n",
       "  '无人',\n",
       "  '驾驶',\n",
       "  '无人驾驶',\n",
       "  '飞行',\n",
       "  '飞行器',\n",
       "  '先进',\n",
       "  '导航',\n",
       "  '系统',\n",
       "  '导航系统',\n",
       "  '正在',\n",
       "  '重新',\n",
       "  '定义',\n",
       "  '空中',\n",
       "  '旅行'],\n",
       " ['技术',\n",
       "  '仅仅',\n",
       "  '不仅仅',\n",
       "  '改变',\n",
       "  '工作',\n",
       "  '方式',\n",
       "  '改变',\n",
       "  '人际',\n",
       "  '交往',\n",
       "  '人际交往',\n",
       "  '生活',\n",
       "  '习惯',\n",
       "  '生活习惯'],\n",
       " ['数字',\n",
       "  '技术',\n",
       "  '广泛',\n",
       "  '应用',\n",
       "  '广泛应用',\n",
       "  '数据',\n",
       "  '安全',\n",
       "  '数据安全',\n",
       "  '问题',\n",
       "  '日益',\n",
       "  '凸显',\n",
       "  '需要',\n",
       "  '新',\n",
       "  '技术',\n",
       "  '保护',\n",
       "  '个人',\n",
       "  '隐私',\n",
       "  '个人隐私',\n",
       "  '企业',\n",
       "  '数据'],\n",
       " ['金融',\n",
       "  '技术',\n",
       "  '称为',\n",
       "  'Fintech',\n",
       "  '正',\n",
       "  '创新',\n",
       "  '支付',\n",
       "  '系统',\n",
       "  '智能',\n",
       "  '投资',\n",
       "  '顾问',\n",
       "  '重塑',\n",
       "  '金融',\n",
       "  '行业'],\n",
       " ['建筑',\n",
       "  '技术',\n",
       "  '引入',\n",
       "  '3D',\n",
       "  '打印',\n",
       "  '智能',\n",
       "  '建筑',\n",
       "  '智能建筑',\n",
       "  '材料',\n",
       "  '正在',\n",
       "  '提升',\n",
       "  '建筑',\n",
       "  '效率',\n",
       "  '质量'],\n",
       " ['技术',\n",
       "  '正在',\n",
       "  '教育',\n",
       "  '领域',\n",
       "  '教育领域',\n",
       "  '引发',\n",
       "  '深远',\n",
       "  '变革',\n",
       "  '在线',\n",
       "  '学习',\n",
       "  '虚拟',\n",
       "  '现实',\n",
       "  '虚拟现实',\n",
       "  '教室',\n",
       "  '影响',\n",
       "  '无处',\n",
       "  '不在',\n",
       "  '无处不在'],\n",
       " ['技术', '工具', '正在', '塑造', '现代', '文化', '影响', '艺术', '娱乐', '形式'],\n",
       " ['技术',\n",
       "  '不断',\n",
       "  '进步',\n",
       "  '不断进步',\n",
       "  '必须',\n",
       "  '面对',\n",
       "  '包括',\n",
       "  '人工',\n",
       "  '智能',\n",
       "  '人工智能',\n",
       "  '伦理',\n",
       "  '机器',\n",
       "  '自主',\n",
       "  '自主性',\n",
       "  '在内',\n",
       "  '新',\n",
       "  '道德',\n",
       "  '挑战'],\n",
       " ['技术',\n",
       "  '正在',\n",
       "  '帮助',\n",
       "  '实现',\n",
       "  '环境',\n",
       "  '持续',\n",
       "  '发展',\n",
       "  '智能',\n",
       "  '节能',\n",
       "  '解决',\n",
       "  '方案',\n",
       "  '解决方案',\n",
       "  '减少',\n",
       "  '能源',\n",
       "  '消耗',\n",
       "  '能源消耗',\n",
       "  '污染'],\n",
       " ['全球',\n",
       "  '全球化',\n",
       "  '加速',\n",
       "  '今天',\n",
       "  '技术',\n",
       "  '处理',\n",
       "  '国际',\n",
       "  '冲突',\n",
       "  '促进',\n",
       "  '全球',\n",
       "  '合作',\n",
       "  '中',\n",
       "  '扮演',\n",
       "  '重要',\n",
       "  '角色']]"
      ]
     },
     "execution_count": 19,
     "metadata": {},
     "output_type": "execute_result"
    }
   ],
   "execution_count": 19
  },
  {
   "metadata": {
    "ExecuteTime": {
     "end_time": "2024-07-19T06:47:29.560924Z",
     "start_time": "2024-07-19T06:47:29.551395Z"
    }
   },
   "cell_type": "code",
   "source": [
    "# 准备语料库和字典\n",
    "dictionary, corpus = prepare_corpus(documents)"
   ],
   "id": "3fd9af8def7b96ad",
   "outputs": [],
   "execution_count": 20
  },
  {
   "metadata": {
    "ExecuteTime": {
     "end_time": "2024-07-19T06:47:30.397855Z",
     "start_time": "2024-07-19T06:47:30.179736Z"
    }
   },
   "cell_type": "code",
   "source": [
    "# 训练LDA模型\n",
    "num_topics = 5\n",
    "lda = lda_model(corpus, dictionary, num_topics=num_topics)"
   ],
   "id": "610d670656798587",
   "outputs": [],
   "execution_count": 21
  },
  {
   "metadata": {
    "ExecuteTime": {
     "end_time": "2024-07-19T06:47:30.537293Z",
     "start_time": "2024-07-19T06:47:30.521289Z"
    }
   },
   "cell_type": "code",
   "source": "lda.print_topics()",
   "id": "edb496334c47fc55",
   "outputs": [
    {
     "data": {
      "text/plain": [
       "[(0,\n",
       "  '0.030*\"改变\" + 0.029*\"农业\" + 0.029*\"技术\" + 0.016*\"方式\" + 0.016*\"包括\" + 0.016*\"生活\" + 0.016*\"现代\" + 0.016*\"提高\" + 0.016*\"习惯\" + 0.016*\"工作\"'),\n",
       " (1,\n",
       "  '0.041*\"正在\" + 0.041*\"技术\" + 0.031*\"智能\" + 0.031*\"建筑\" + 0.021*\"效率\" + 0.021*\"系统\" + 0.021*\"交通\" + 0.021*\"医疗\" + 0.012*\"方式\" + 0.012*\"创新\"'),\n",
       " (2,\n",
       "  '0.045*\"技术\" + 0.031*\"重要\" + 0.031*\"全球\" + 0.017*\"领域\" + 0.017*\"自动\" + 0.017*\"进步\" + 0.017*\"应用\" + 0.017*\"驱动力\" + 0.017*\"自动化\" + 0.017*\"驱动\"'),\n",
       " (3,\n",
       "  '0.047*\"技术\" + 0.040*\"正在\" + 0.032*\"智能\" + 0.032*\"影响\" + 0.024*\"社会\" + 0.024*\"人工\" + 0.024*\"人工智能\" + 0.017*\"发展\" + 0.017*\"变革\" + 0.017*\"进步\"'),\n",
       " (4,\n",
       "  '0.068*\"技术\" + 0.028*\"正在\" + 0.015*\"数据\" + 0.015*\"新\" + 0.015*\"教育\" + 0.015*\"发展\" + 0.015*\"金融\" + 0.015*\"广泛\" + 0.015*\"应用\" + 0.015*\"系统\"')]"
      ]
     },
     "execution_count": 22,
     "metadata": {},
     "output_type": "execute_result"
    }
   ],
   "execution_count": 22
  },
  {
   "metadata": {
    "ExecuteTime": {
     "end_time": "2024-07-19T06:47:31.098558Z",
     "start_time": "2024-07-19T06:47:31.088361Z"
    }
   },
   "cell_type": "code",
   "source": "### 评价LDA模型 ###",
   "id": "6146048b38237d2c",
   "outputs": [],
   "execution_count": 23
  },
  {
   "metadata": {
    "ExecuteTime": {
     "end_time": "2024-07-19T06:47:31.519987Z",
     "start_time": "2024-07-19T06:47:31.512986Z"
    }
   },
   "cell_type": "code",
   "source": [
    "#计算coherence score\n",
    "def coherence(num_topics):\n",
    "    lda = LdaModel(corpus, num_topics=num_topics, id2word=dictionary, passes=30, random_state=42)\n",
    "    coherence_model_lda = models.CoherenceModel(model=lda, texts=documents, dictionary=dictionary, coherence='c_v')\n",
    "    coherence_lda = coherence_model_lda.get_coherence()\n",
    "    return coherence_lda\n"
   ],
   "id": "8fc81d5639db8307",
   "outputs": [],
   "execution_count": 24
  },
  {
   "metadata": {
    "ExecuteTime": {
     "end_time": "2024-07-19T06:48:07.535101Z",
     "start_time": "2024-07-19T06:47:33.433620Z"
    }
   },
   "cell_type": "code",
   "source": [
    "# 绘制主题-coherence曲线\n",
    "import matplotlib.pyplot as plt\n",
    "import matplotlib\n",
    "x = range(1,15)\n",
    "y = [coherence(i) for i in x]\n",
    "plt.plot(x,y)\n",
    "plt.xlabel('Number of topics')\n",
    "plt.ylabel('Coherence score')\n",
    "plt.rcParams['font.sans-serif'] = ['SimHei']\n",
    "matplotlib.rcParams['axes.unicode_minus'] = False\n",
    "plt.show()"
   ],
   "id": "8ea07aeff396325c",
   "outputs": [
    {
     "data": {
      "text/plain": [
       "<Figure size 640x480 with 1 Axes>"
      ],
      "image/png": "[encoded data removed]"
     },
     "metadata": {},
     "output_type": "display_data"
    }
   ],
   "execution_count": 25
  },
  {
   "metadata": {
    "ExecuteTime": {
     "end_time": "2024-07-19T06:48:12.154518Z",
     "start_time": "2024-07-19T06:48:12.145449Z"
    }
   },
   "cell_type": "code",
   "source": "max(zip(x,y),key=lambda pair:pair[1]) [0]",
   "id": "ebbc1a08fe3da316",
   "outputs": [
    {
     "data": {
      "text/plain": [
       "8"
      ]
     },
     "execution_count": 26,
     "metadata": {},
     "output_type": "execute_result"
    }
   ],
   "execution_count": 26
  },
  {
   "metadata": {
    "ExecuteTime": {
     "end_time": "2024-07-19T06:48:16.825425Z",
     "start_time": "2024-07-19T06:48:16.664900Z"
    }
   },
   "cell_type": "code",
   "source": [
    "# 以最优主题数8来训练LDA模型\n",
    "num_topics = 8\n",
    "lda = LdaModel(corpus, num_topics=num_topics, id2word=dictionary, passes=30, random_state=42)"
   ],
   "id": "640b14e76c9ec8e8",
   "outputs": [],
   "execution_count": 27
  },
  {
   "metadata": {
    "ExecuteTime": {
     "end_time": "2024-07-19T06:48:18.716575Z",
     "start_time": "2024-07-19T06:48:18.705573Z"
    }
   },
   "cell_type": "code",
   "source": "lda.print_topics()",
   "id": "4c0e4256385243ba",
   "outputs": [
    {
     "data": {
      "text/plain": [
       "[(0,\n",
       "  '0.036*\"改变\" + 0.036*\"农业\" + 0.036*\"技术\" + 0.019*\"方式\" + 0.019*\"现代\" + 0.019*\"包括\" + 0.019*\"生活\" + 0.019*\"提高\" + 0.019*\"现代农业\" + 0.019*\"遗传工程\"'),\n",
       " (1,\n",
       "  '0.052*\"技术\" + 0.040*\"正在\" + 0.027*\"智能\" + 0.027*\"系统\" + 0.027*\"医疗\" + 0.027*\"改变\" + 0.027*\"交通\" + 0.027*\"教育\" + 0.014*\"创新\" + 0.014*\"效率\"'),\n",
       " (2,\n",
       "  '0.055*\"技术\" + 0.037*\"智能\" + 0.020*\"社会\" + 0.020*\"自动\" + 0.020*\"领域\" + 0.020*\"塑造\" + 0.020*\"联网\" + 0.020*\"应用\" + 0.020*\"未来\" + 0.020*\"各行\"'),\n",
       " (3,\n",
       "  '0.041*\"技术\" + 0.028*\"智能\" + 0.028*\"影响\" + 0.028*\"进步\" + 0.028*\"人工\" + 0.028*\"人工智能\" + 0.028*\"正在\" + 0.015*\"新\" + 0.015*\"不断\" + 0.015*\"面对\"'),\n",
       " (4,\n",
       "  '0.067*\"技术\" + 0.034*\"正在\" + 0.023*\"系统\" + 0.023*\"发展\" + 0.023*\"金融\" + 0.012*\"驾驶\" + 0.012*\"无人驾驶\" + 0.012*\"无人\" + 0.012*\"飞行器\" + 0.012*\"旅行\"'),\n",
       " (5,\n",
       "  '0.052*\"技术\" + 0.052*\"建筑\" + 0.035*\"数据\" + 0.019*\"新\" + 0.019*\"效率\" + 0.019*\"数字\" + 0.019*\"应用\" + 0.019*\"广泛\" + 0.019*\"凸显\" + 0.019*\"安全\"'),\n",
       " (6,\n",
       "  '0.037*\"正在\" + 0.037*\"发展\" + 0.037*\"技术\" + 0.020*\"方式\" + 0.020*\"实现\" + 0.020*\"帮助\" + 0.020*\"环境\" + 0.020*\"减少\" + 0.020*\"污染\" + 0.020*\"能源\"'),\n",
       " (7,\n",
       "  '0.042*\"全球\" + 0.042*\"技术\" + 0.022*\"工具\" + 0.022*\"重要\" + 0.022*\"现代\" + 0.022*\"合作\" + 0.022*\"全球化\" + 0.022*\"冲突\" + 0.022*\"加速\" + 0.022*\"促进\"')]"
      ]
     },
     "execution_count": 28,
     "metadata": {},
     "output_type": "execute_result"
    }
   ],
   "execution_count": 28
  },
  {
   "metadata": {
    "ExecuteTime": {
     "end_time": "2024-07-19T06:48:19.940611Z",
     "start_time": "2024-07-19T06:48:19.928543Z"
    }
   },
   "cell_type": "code",
   "source": "### 储存主题分布 ###",
   "id": "a2d4ffa97638191e",
   "outputs": [],
   "execution_count": 29
  },
  {
   "metadata": {
    "ExecuteTime": {
     "end_time": "2024-07-19T06:48:20.928873Z",
     "start_time": "2024-07-19T06:48:20.914037Z"
    }
   },
   "cell_type": "code",
   "source": "lda.get_document_topics(corpus[1],minimum_probability=0.0)",
   "id": "8782960b6f248e9b",
   "outputs": [
    {
     "data": {
      "text/plain": [
       "[(0, 0.008336345),\n",
       " (1, 0.008337688),\n",
       " (2, 0.008341024),\n",
       " (3, 0.9416328),\n",
       " (4, 0.008337231),\n",
       " (5, 0.008339456),\n",
       " (6, 0.008337947),\n",
       " (7, 0.0083375)]"
      ]
     },
     "execution_count": 30,
     "metadata": {},
     "output_type": "execute_result"
    }
   ],
   "execution_count": 30
  },
  {
   "metadata": {
    "ExecuteTime": {
     "end_time": "2024-07-19T06:48:21.947517Z",
     "start_time": "2024-07-19T06:48:21.928513Z"
    }
   },
   "cell_type": "code",
   "source": [
    "### 获取每个文档的主题分布\n",
    "def get_topic_distribution(lda, corpus):\n",
    "    topic_distribution = []\n",
    "    for doc in corpus:\n",
    "        topic_distribution.append(lda.get_document_topics(doc,minimum_probability=0.0))\n",
    "    return topic_distribution"
   ],
   "id": "50474be72af8127c",
   "outputs": [],
   "execution_count": 31
  },
  {
   "metadata": {
    "ExecuteTime": {
     "end_time": "2024-07-19T06:48:22.118700Z",
     "start_time": "2024-07-19T06:48:22.114700Z"
    }
   },
   "cell_type": "code",
   "source": [
    "### 保存主题分布到文件\n",
    "\n",
    "def save_topic_distribution(lda, corpus, output_filename):\n",
    "    topic_distribution = get_topic_distribution(lda, corpus)\n",
    "    df = pd.DataFrame(topic_distribution)\n",
    "    df.to_csv(output_filename, index=False)"
   ],
   "id": "1c2bc4305d813d46",
   "outputs": [],
   "execution_count": 32
  },
  {
   "metadata": {
    "ExecuteTime": {
     "end_time": "2024-07-19T06:48:23.130521Z",
     "start_time": "2024-07-19T06:48:23.113017Z"
    }
   },
   "cell_type": "code",
   "source": [
    "output_filename = 'topic_distribution.csv'\n",
    "save_topic_distribution(lda, corpus, output_filename)"
   ],
   "id": "adba5c35a21f6f61",
   "outputs": [],
   "execution_count": 33
  },
  {
   "metadata": {
    "ExecuteTime": {
     "end_time": "2024-07-19T06:48:27.428336Z",
     "start_time": "2024-07-19T06:48:24.210645Z"
    }
   },
   "cell_type": "code",
   "source": [
    "### 主题可视化 ###\n",
    "\n",
    "import pyLDAvis.gensim\n",
    "pyLDAvis.enable_notebook()\n",
    "data = pyLDAvis.gensim.prepare(lda, corpus, dictionary)\n",
    "pyLDAvis.save_html(data, 'lda.html')"
   ],
   "id": "5a92879ba081342c",
   "outputs": [],
   "execution_count": 34
  },
  {
   "metadata": {
    "ExecuteTime": {
     "end_time": "2024-07-19T06:48:27.443505Z",
     "start_time": "2024-07-19T06:48:27.430501Z"
    }
   },
   "cell_type": "code",
   "source": "### 计算文档之间的主题距离 ###",
   "id": "d69c80313f25ecd9",
   "outputs": [],
   "execution_count": 35
  },
  {
   "metadata": {
    "ExecuteTime": {
     "end_time": "2024-07-19T06:48:31.025274Z",
     "start_time": "2024-07-19T06:48:31.016207Z"
    }
   },
   "cell_type": "code",
   "source": [
    "def calculate_topic_distance_abs_diff(doc_topics_i, doc_topics_j):\n",
    "    # 保证每个主题的概率被考虑到，即使某些主题在某文档中的概率为0\n",
    "    # 将主题分布转换为字典形式\n",
    "    topic_dist_i = dict(doc_topics_i)\n",
    "    topic_dist_j = dict(doc_topics_j)\n",
    "    \n",
    "    # 获取所有主题的并集\n",
    "    all_topics = set(topic_dist_i.keys()).union(set(topic_dist_j.keys()))\n",
    "    distance = sum(abs(topic_dist_i.get(topic, 0) - topic_dist_j.get(topic, 0)) for topic in all_topics)\n",
    "    return distance"
   ],
   "id": "eb247de34b67e446",
   "outputs": [],
   "execution_count": 36
  },
  {
   "metadata": {
    "ExecuteTime": {
     "end_time": "2024-07-19T06:48:32.081235Z",
     "start_time": "2024-07-19T06:48:32.063231Z"
    }
   },
   "cell_type": "code",
   "source": "doc_topics = get_topic_distribution(lda, corpus)",
   "id": "943fe29db978b10d",
   "outputs": [],
   "execution_count": 37
  },
  {
   "metadata": {
    "ExecuteTime": {
     "end_time": "2024-07-19T06:48:33.510554Z",
     "start_time": "2024-07-19T06:48:33.506553Z"
    }
   },
   "cell_type": "code",
   "source": [
    "# 选择两个文档计算它们之间的距离\n",
    "doc_index1, doc_index2 = 0, 1  # 选择文档索引\n",
    "distance = calculate_topic_distance_abs_diff(doc_topics[doc_index1], doc_topics[doc_index2])\n",
    "print(f\"Distance between Document {doc_index1} and Document {doc_index2}: {distance}\")"
   ],
   "id": "e45b497fb1a31e3",
   "outputs": [
    {
     "name": "stdout",
     "output_type": "stream",
     "text": [
      "Distance between Document 0 and Document 1: 1.8666093479841948\n"
     ]
    }
   ],
   "execution_count": 38
  },
  {
   "metadata": {
    "ExecuteTime": {
     "end_time": "2024-07-19T06:48:36.184937Z",
     "start_time": "2024-07-19T06:48:36.175935Z"
    }
   },
   "cell_type": "code",
   "source": [
    "# 计算所有文档之间的主题距离 \n",
    "\n",
    "def calculate_all_topic_distances(doc_topics):\n",
    "    num_docs = len(doc_topics)\n",
    "    distances = [[0] * num_docs for _ in range(num_docs)]\n",
    "    \n",
    "    for i in range(num_docs):\n",
    "        for j in range(i+1, num_docs):\n",
    "            distance = calculate_topic_distance_abs_diff(doc_topics[i], doc_topics[j])\n",
    "            distances[i][j] = distances[j][i] = distance\n",
    "    \n",
    "    return distances"
   ],
   "id": "7d092f00b6218596",
   "outputs": [],
   "execution_count": 39
  },
  {
   "metadata": {
    "ExecuteTime": {
     "end_time": "2024-07-19T06:48:38.501281Z",
     "start_time": "2024-07-19T06:48:38.498281Z"
    }
   },
   "cell_type": "code",
   "source": "### 结合主题距离的PageRank计算 ###",
   "id": "7ef3152b5ee15083",
   "outputs": [],
   "execution_count": 40
  },
  {
   "metadata": {
    "ExecuteTime": {
     "end_time": "2024-07-19T06:48:39.034766Z",
     "start_time": "2024-07-19T06:48:39.027773Z"
    }
   },
   "cell_type": "code",
   "source": [
    "# 将主题距离转换为相似度\n",
    "# 阈值threshold用于确定两个文档之间是否存在链接，按需调整\n",
    "def convert_distance_to_similarity(distances, threshold=0.1):\n",
    "    max_distance = max(max(row) for row in distances if row)\n",
    "    similarity_matrix = []\n",
    "    links = []\n",
    "    for i, row in enumerate(distances):\n",
    "        new_row = []\n",
    "        link_row = []\n",
    "        for j, dist in enumerate(row):\n",
    "            similarity = 1 - (dist / max_distance) if max_distance else 1\n",
    "            new_row.append(similarity)\n",
    "            if similarity > threshold and i != j:\n",
    "                link_row.append(j)\n",
    "        similarity_matrix.append(new_row)\n",
    "        links.append(link_row)\n",
    "    return similarity_matrix, links"
   ],
   "id": "14f779654a0f0469",
   "outputs": [],
   "execution_count": 41
  },
  {
   "metadata": {
    "ExecuteTime": {
     "end_time": "2024-07-19T06:48:44.352758Z",
     "start_time": "2024-07-19T06:48:44.345683Z"
    }
   },
   "cell_type": "code",
   "source": [
    "# 计算PageRank\n",
    "def page_rank(links, similarities, alpha=0.85, convergence_threshold=0.0001):\n",
    "    N = len(links)\n",
    "    pr = np.ones(N) / N  # 初始均等分配PageRank\n",
    "    change = 1\n",
    "    while change > convergence_threshold:\n",
    "        new_pr = np.zeros(N)\n",
    "        for i in range(N):\n",
    "            link_contributions = 0\n",
    "            for j in links[i]:  # 遍历节点i的所有出链节点j\n",
    "                if len(links[j]) > 0:  # 避免除以零\n",
    "                    link_contributions += pr[j] * similarities[i][j] / len(links[j])\n",
    "            new_pr[i] = (1 - alpha) / N + alpha * link_contributions\n",
    "        change = np.linalg.norm(new_pr - pr)\n",
    "        pr = new_pr\n",
    "    return pr"
   ],
   "id": "5a87cd87d4bb5f8",
   "outputs": [],
   "execution_count": 42
  },
  {
   "metadata": {
    "ExecuteTime": {
     "end_time": "2024-07-19T06:48:45.990741Z",
     "start_time": "2024-07-19T06:48:45.984741Z"
    }
   },
   "cell_type": "code",
   "source": "distances = calculate_all_topic_distances(doc_topics)",
   "id": "629f59ce5e7f2afd",
   "outputs": [],
   "execution_count": 43
  },
  {
   "metadata": {
    "ExecuteTime": {
     "end_time": "2024-07-19T06:48:46.550342Z",
     "start_time": "2024-07-19T06:48:46.536249Z"
    }
   },
   "cell_type": "code",
   "source": "similarities, links = convert_distance_to_similarity(distances)",
   "id": "84c9a5f222b8b18f",
   "outputs": [],
   "execution_count": 44
  },
  {
   "metadata": {
    "ExecuteTime": {
     "end_time": "2024-07-19T07:03:33.365702Z",
     "start_time": "2024-07-19T07:03:33.361701Z"
    }
   },
   "cell_type": "code",
   "source": "pr = np.ones(20) / 20",
   "id": "bddcd19339fb68f5",
   "outputs": [],
   "execution_count": 62
  },
  {
   "metadata": {
    "ExecuteTime": {
     "end_time": "2024-07-19T07:05:59.191870Z",
     "start_time": "2024-07-19T07:05:59.177879Z"
    }
   },
   "cell_type": "code",
   "source": [
    "temp = links[0]\n",
    "temp"
   ],
   "id": "791742ada6959f7",
   "outputs": [
    {
     "data": {
      "text/plain": [
       "[6, 10, 13]"
      ]
     },
     "execution_count": 64,
     "metadata": {},
     "output_type": "execute_result"
    }
   ],
   "execution_count": 64
  },
  {
   "metadata": {
    "ExecuteTime": {
     "end_time": "2024-07-19T07:06:19.262657Z",
     "start_time": "2024-07-19T07:06:18.963601Z"
    }
   },
   "cell_type": "code",
   "source": "pr[temp] * similarities[0][temp] / len(links[temp])",
   "id": "a22f2515d8de3b4b",
   "outputs": [
    {
     "ename": "TypeError",
     "evalue": "list indices must be integers or slices, not list",
     "output_type": "error",
     "traceback": [
      "\u001B[1;31m---------------------------------------------------------------------------\u001B[0m",
      "\u001B[1;31mTypeError\u001B[0m                                 Traceback (most recent call last)",
      "Cell \u001B[1;32mIn[65], line 1\u001B[0m\n\u001B[1;32m----> 1\u001B[0m pr[temp] \u001B[38;5;241m*\u001B[39m \u001B[43msimilarities\u001B[49m\u001B[43m[\u001B[49m\u001B[38;5;241;43m0\u001B[39;49m\u001B[43m]\u001B[49m\u001B[43m[\u001B[49m\u001B[43mtemp\u001B[49m\u001B[43m]\u001B[49m \u001B[38;5;241m/\u001B[39m \u001B[38;5;28mlen\u001B[39m(links[temp])\n",
      "\u001B[1;31mTypeError\u001B[0m: list indices must be integers or slices, not list"
     ]
    }
   ],
   "execution_count": 65
  },
  {
   "metadata": {
    "ExecuteTime": {
     "end_time": "2024-07-19T06:48:47.317893Z",
     "start_time": "2024-07-19T06:48:47.305995Z"
    }
   },
   "cell_type": "code",
   "source": "pr = page_rank(links, similarities)",
   "id": "91e1b56573085687",
   "outputs": [],
   "execution_count": 45
  },
  {
   "metadata": {
    "ExecuteTime": {
     "end_time": "2024-07-04T06:25:56.565906Z",
     "start_time": "2024-07-04T06:25:56.561701Z"
    }
   },
   "cell_type": "code",
   "source": "pr",
   "id": "3ed95e6c8f02fe85",
   "outputs": [
    {
     "data": {
      "text/plain": [
       "array([0.04735765, 0.04763616, 0.04689277, 0.04709074, 0.04910225,\n",
       "       0.04736127, 0.04735799, 0.04464005, 0.04910225, 0.04704355,\n",
       "       0.04735777, 0.04464005, 0.04562168, 0.04735798, 0.04562168,\n",
       "       0.04782034, 0.04371549, 0.0478203 , 0.04736127, 0.04371549])"
      ]
     },
     "execution_count": 126,
     "metadata": {},
     "output_type": "execute_result"
    }
   ],
   "execution_count": 126
  },
  {
   "metadata": {
    "ExecuteTime": {
     "end_time": "2024-07-04T07:59:01.205766Z",
     "start_time": "2024-07-04T07:59:01.191763Z"
    }
   },
   "cell_type": "code",
   "source": [
    "# 按PageRank值对文档进行排序\n",
    "pagerank_score = pr\n",
    "doc_pagerank = list(zip(document_names, pagerank_score))\n",
    "\n",
    "# 按PageRank分数降序排序\n",
    "sorted_doc_pagerank = sorted(doc_pagerank, key=lambda x: x[1], reverse=True)\n"
   ],
   "id": "14495b4cf725b139",
   "outputs": [],
   "execution_count": 133
  },
  {
   "metadata": {
    "ExecuteTime": {
     "end_time": "2024-07-04T07:59:09.973969Z",
     "start_time": "2024-07-04T07:59:09.955623Z"
    }
   },
   "cell_type": "code",
   "source": [
    "# 打印排序后的结果\n",
    "for doc_name, pr_score in sorted_doc_pagerank:\n",
    "    print(f\"{doc_name}: {pr_score}\")"
   ],
   "id": "4c7e5f65884a6e7f",
   "outputs": [
    {
     "name": "stdout",
     "output_type": "stream",
     "text": [
      "05_技术进步对经济的推动.docx: 0.049102245001964855\n",
      "09_智能技术的未来.docx: 0.049102245001964855\n",
      "16_技术对教育的长远影响.docx: 0.047820344149153385\n",
      "18_未来技术的道德挑战.docx: 0.047820303224359165\n",
      "02_现代技术的发展.docx: 0.04763615585682232\n",
      "06_技术和社会变革.docx: 0.04736126712632031\n",
      "19_技术与环境的可持续发展.docx: 0.04736126712632031\n",
      "07_技术与环境保护.docx: 0.04735799429624906\n",
      "14_技术在金融服务中的应用.docx: 0.047357977429094596\n",
      "11_技术在航空业的革新.docx: 0.04735777101986423\n",
      "01_技术革命.docx: 0.04735765325994341\n",
      "04_技术在医疗中的应用.docx: 0.04709074491038974\n",
      "10_技术在交通领域的变革.docx: 0.04704354698345835\n",
      "03_技术与教育.docx: 0.046892765390645234\n",
      "13_数字技术与数据安全.docx: 0.04562168318929323\n",
      "15_技术在建筑行业的应用.docx: 0.04562168318929323\n",
      "08_技术在农业中的应用.docx: 0.044640049803254464\n",
      "12_技术推动的社会变化.docx: 0.044640049803254464\n",
      "17_技术与文化的互动.docx: 0.04371549433757595\n",
      "20_技术在全球治理中的作用.docx: 0.04371549433757595\n"
     ]
    }
   ],
   "execution_count": 134
  },
  {
   "metadata": {
    "ExecuteTime": {
     "end_time": "2024-07-04T08:18:23.191647Z",
     "start_time": "2024-07-04T08:18:23.178645Z"
    }
   },
   "cell_type": "code",
   "source": "### 结合点击率（CTR）分析 ###",
   "id": "2c5a582dadecbf1a",
   "outputs": [],
   "execution_count": 135
  },
  {
   "metadata": {
    "ExecuteTime": {
     "end_time": "2024-07-04T08:18:34.234742Z",
     "start_time": "2024-07-04T08:18:34.228678Z"
    }
   },
   "cell_type": "code",
   "source": [
    "# 假设 clicks 是上传的点击次数数组\n",
    "clicks = np.array([5, 10, 15, 20, 25, 5, 10, 15, 20, 25, 5, 10, 15, 20, 25, 5, 10, 15, 20, 25])"
   ],
   "id": "4214f6ae1d20c19a",
   "outputs": [],
   "execution_count": 136
  },
  {
   "metadata": {
    "ExecuteTime": {
     "end_time": "2024-07-04T08:19:15.139170Z",
     "start_time": "2024-07-04T08:19:15.132168Z"
    }
   },
   "cell_type": "code",
   "source": [
    "# 将点击次数转换为点击率（CTR）\n",
    "# 这里假设每个文档都展示了相同的次数，CTR = 点击次数 / 最大点击次数\n",
    "max_clicks = np.max(clicks)\n",
    "ctr = clicks / max_clicks  # 归一化点击次数作为CTR的简化模型"
   ],
   "id": "3e636c04b12d01c5",
   "outputs": [],
   "execution_count": 137
  },
  {
   "metadata": {
    "ExecuteTime": {
     "end_time": "2024-07-04T08:26:20.946473Z",
     "start_time": "2024-07-04T08:26:20.934406Z"
    }
   },
   "cell_type": "code",
   "source": [
    "# 结合PageRank和CTR计算最终排序\n",
    "def page_rank_with_ctr(links, similarities, ctr, alpha=0.85, beta=0.7, convergence_threshold=0.0001):\n",
    "    N = len(links)\n",
    "    pr = np.ones(N) / N  # 初始均等分配PageRank\n",
    "    change = 1\n",
    "    while change > convergence_threshold:\n",
    "        new_pr = np.zeros(N)\n",
    "        for i in range(N):\n",
    "            link_contributions = 0\n",
    "            for j in links[i]:  # 遍历节点i的所有出链节点j\n",
    "                if len(links[j]) > 0:  # 避免除以零\n",
    "                    link_contributions += pr[j] * similarities[i][j] / len(links[j])\n",
    "            new_pr[i] = (1 - alpha) / N + alpha * (beta * link_contributions + (1 - beta) * ctr[i])\n",
    "        change = np.linalg.norm(new_pr - pr)\n",
    "        pr = new_pr\n",
    "    return pr\n"
   ],
   "id": "3e9007ac09d49c08",
   "outputs": [],
   "execution_count": 138
  },
  {
   "metadata": {
    "ExecuteTime": {
     "end_time": "2024-07-04T08:26:30.370862Z",
     "start_time": "2024-07-04T08:26:30.353093Z"
    }
   },
   "cell_type": "code",
   "source": "pr_with_ctr = page_rank_with_ctr(links, similarities, ctr)",
   "id": "8c06ec88bf92f1f0",
   "outputs": [],
   "execution_count": 139
  },
  {
   "metadata": {
    "ExecuteTime": {
     "end_time": "2024-07-04T08:27:11.053140Z",
     "start_time": "2024-07-04T08:27:11.040138Z"
    }
   },
   "cell_type": "code",
   "source": [
    "# 按PageRank值对文档进行排序\n",
    "pagerank_score = pr_with_ctr\n",
    "doc_pagerank = list(zip(document_names, pagerank_score))\n",
    "\n",
    "# 按PageRank分数降序排序\n",
    "sorted_doc_pagerank = sorted(doc_pagerank, key=lambda x: x[1], reverse=True)\n",
    "\n",
    "# 打印排序后的结果\n",
    "for doc_name, pr_score in sorted_doc_pagerank:\n",
    "    print(f\"{doc_name}: {pr_score}\")"
   ],
   "id": "4e1c8bf3171cb45c",
   "outputs": [
    {
     "name": "stdout",
     "output_type": "stream",
     "text": [
      "05_技术进步对经济的推动.docx: 0.5982815111659525\n",
      "09_智能技术的未来.docx: 0.5662692123296404\n",
      "10_技术在交通领域的变革.docx: 0.5532553325503654\n",
      "15_技术在建筑行业的应用.docx: 0.5413168746404556\n",
      "04_技术在医疗中的应用.docx: 0.514284435289849\n",
      "20_技术在全球治理中的作用.docx: 0.490739647671717\n",
      "13_数字技术与数据安全.docx: 0.4769519371608439\n",
      "03_技术与教育.docx: 0.47306331518324524\n",
      "17_技术与文化的互动.docx: 0.3938788115605513\n",
      "19_技术与环境的可持续发展.docx: 0.37654699032312317\n",
      "14_技术在金融服务中的应用.docx: 0.35159580148738084\n",
      "08_技术在农业中的应用.docx: 0.3390914285460864\n",
      "12_技术推动的社会变化.docx: 0.3068562652191356\n",
      "18_未来技术的道德挑战.docx: 0.3065602217658953\n",
      "06_技术和社会变革.docx: 0.280263869022289\n",
      "02_现代技术的发展.docx: 0.2664634794718822\n",
      "07_技术与环境保护.docx: 0.2662616200698216\n",
      "16_技术对教育的长远影响.docx: 0.2279475870318303\n",
      "01_技术革命.docx: 0.22391680898076105\n",
      "11_技术在航空业的革新.docx: 0.22370140310203912\n"
     ]
    }
   ],
   "execution_count": 140
  },
  {
   "metadata": {},
   "cell_type": "code",
   "outputs": [],
   "execution_count": null,
   "source": "",
   "id": "12bd75142fac9ca3"
  }
 ],
 "metadata": {
  "kernelspec": {
   "display_name": "Python 3",
   "language": "python",
   "name": "python3"
  },
  "language_info": {
   "codemirror_mode": {
    "name": "ipython",
    "version": 2
   },
   "file_extension": ".py",
   "mimetype": "text/x-python",
   "name": "python",
   "nbconvert_exporter": "python",
   "pygments_lexer": "ipython2",
   "version": "2.7.6"
  }
 },
 "nbformat": 4,
 "nbformat_minor": 5
}
